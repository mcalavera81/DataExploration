{
 "cells": [
  {
   "cell_type": "markdown",
   "metadata": {},
   "source": [
    "Visualizing distributions\n",
    "=========================\n",
    "\n",
    "Copyright 2015 Allen Downey\n",
    "\n",
    "License: [Creative Commons Attribution 4.0 International](http://creativecommons.org/licenses/by/4.0/)"
   ]
  },
  {
   "cell_type": "code",
   "execution_count": 1,
   "metadata": {
    "collapsed": false
   },
   "outputs": [],
   "source": [
    "from __future__ import print_function, division\n",
    "\n",
    "import numpy as np\n",
    "import thinkstats2\n",
    "\n",
    "import nsfg\n",
    "\n",
    "import thinkplot\n",
    "\n",
    "%matplotlib inline"
   ]
  },
  {
   "cell_type": "markdown",
   "metadata": {},
   "source": [
    "Let's load up the NSFG pregnancy data."
   ]
  },
  {
   "cell_type": "code",
   "execution_count": 2,
   "metadata": {
    "collapsed": false
   },
   "outputs": [
    {
     "data": {
      "text/plain": [
       "(13593, 244)"
      ]
     },
     "execution_count": 2,
     "metadata": {},
     "output_type": "execute_result"
    }
   ],
   "source": [
    "preg = nsfg.ReadFemPreg()\n",
    "preg.shape"
   ]
  },
  {
   "cell_type": "markdown",
   "metadata": {},
   "source": [
    "And select the rows corresponding to live births."
   ]
  },
  {
   "cell_type": "code",
   "execution_count": 3,
   "metadata": {
    "collapsed": false
   },
   "outputs": [
    {
     "data": {
      "text/plain": [
       "(9148, 244)"
      ]
     },
     "execution_count": 3,
     "metadata": {},
     "output_type": "execute_result"
    }
   ],
   "source": [
    "live = preg[preg.outcome == 1]\n",
    "live.shape"
   ]
  },
  {
   "cell_type": "markdown",
   "metadata": {},
   "source": [
    "We can use `describe` to generate summary statistics."
   ]
  },
  {
   "cell_type": "code",
   "execution_count": 4,
   "metadata": {
    "collapsed": false
   },
   "outputs": [
    {
     "data": {
      "text/plain": [
       "count    9148.000000\n",
       "mean       38.560560\n",
       "std         2.702344\n",
       "min         0.000000\n",
       "25%        39.000000\n",
       "50%        39.000000\n",
       "75%        39.000000\n",
       "max        50.000000\n",
       "Name: prglngth, dtype: float64"
      ]
     },
     "execution_count": 4,
     "metadata": {},
     "output_type": "execute_result"
    }
   ],
   "source": [
    "live.prglngth.describe()"
   ]
  },
  {
   "cell_type": "markdown",
   "metadata": {},
   "source": [
    "But there is no substitute for looking at the whole distribution, not just a summary.\n",
    "\n",
    "One way to represent a distribution is a Probability Mass Function (PMF).\n",
    "\n",
    "`thinkstats2` provides a class named `Pmf` that represents a PMF.\n",
    "\n",
    "A Pmf object contains a Python dictionary that maps from each possible value to its probability (that is, how often it appears in the dataset).\n",
    "\n",
    "`Items` returns a sorted list of values and their probabilities:"
   ]
  },
  {
   "cell_type": "code",
   "execution_count": 5,
   "metadata": {
    "collapsed": false
   },
   "outputs": [
    {
     "name": "stdout",
     "output_type": "stream",
     "text": [
      "0 0.00010931351115\n",
      "4 0.00010931351115\n",
      "9 0.00010931351115\n",
      "13 0.00010931351115\n",
      "17 0.0002186270223\n",
      "18 0.00010931351115\n",
      "19 0.00010931351115\n",
      "20 0.00010931351115\n",
      "21 0.0002186270223\n",
      "22 0.00076519457805\n",
      "23 0.00010931351115\n",
      "24 0.00142107564495\n",
      "25 0.00032794053345\n",
      "26 0.00382597289025\n",
      "27 0.00032794053345\n",
      "28 0.0034980323568\n",
      "29 0.00229558373415\n",
      "30 0.0150852645387\n",
      "31 0.00295146480105\n",
      "32 0.0125710537822\n",
      "33 0.00535636204635\n",
      "34 0.006558810669\n",
      "35 0.0339965019676\n",
      "36 0.0350896370791\n",
      "37 0.0497376475732\n",
      "38 0.066353301268\n",
      "39 0.513008307827\n",
      "40 0.121993878443\n",
      "41 0.064167031045\n",
      "42 0.0358548316572\n",
      "43 0.0161783996502\n",
      "44 0.0050284215129\n",
      "45 0.0010931351115\n",
      "46 0.00010931351115\n",
      "47 0.00010931351115\n",
      "48 0.00076519457805\n",
      "50 0.0002186270223\n"
     ]
    }
   ],
   "source": [
    "pmf = thinkstats2.Pmf(live.prglngth)\n",
    "for val, prob in pmf.Items():\n",
    "    print(val, prob)"
   ]
  },
  {
   "cell_type": "markdown",
   "metadata": {},
   "source": [
    "There are some values here that are certainly errors, and some that are suspect.  For now we'll take them at face value."
   ]
  },
  {
   "cell_type": "markdown",
   "metadata": {},
   "source": [
    "There are several ways to visualize Pmfs.\n",
    "\n",
    "`thinkplot` provides functions to plot Pmfs and other types from `thinkstats2`.\n",
    "\n",
    "`thinkplot.Pmf` renders a Pmf as histogram (bar chart)."
   ]
  },
  {
   "cell_type": "code",
   "execution_count": 6,
   "metadata": {
    "collapsed": false
   },
   "outputs": [
    {
     "data": {
      "image/png": "[encoded data removed]",
      "text/plain": [
       "<matplotlib.figure.Figure at 0x7f088edc64d0>"
      ]
     },
     "metadata": {},
     "output_type": "display_data"
    }
   ],
   "source": [
    "thinkplot.PrePlot(1)\n",
    "thinkplot.Hist(pmf)\n",
    "thinkplot.Config(xlabel='Pregnancy length (weeks)',\n",
    "                 ylabel='PMF', \n",
    "                 xlim=[0, 50],\n",
    "                 legend=False)"
   ]
  },
  {
   "cell_type": "markdown",
   "metadata": {},
   "source": [
    "`Pmf` renders the outline of the histogram."
   ]
  },
  {
   "cell_type": "code",
   "execution_count": 7,
   "metadata": {},
   "outputs": [
    {
     "data": {
      "text/plain": [
       "<matplotlib.axes._subplots.AxesSubplot at 0x7f08c46c8790>"
      ]
     },
     "execution_count": 7,
     "metadata": {},
     "output_type": "execute_result"
    },
    {
     "data": {
      "image/png": "[encoded data removed]",
      "text/plain": [
       "<matplotlib.figure.Figure at 0x7f088edb6c10>"
      ]
     },
     "metadata": {},
     "output_type": "display_data"
    }
   ],
   "source": [
    "live.prglngth.plot.hist(normed=True,bins=50)"
   ]
  },
  {
   "cell_type": "code",
   "execution_count": 8,
   "metadata": {
    "collapsed": false
   },
   "outputs": [
    {
     "data": {
      "image/png": "[encoded data removed]",
      "text/plain": [
       "<matplotlib.figure.Figure at 0x7f088ea46710>"
      ]
     },
     "metadata": {},
     "output_type": "display_data"
    }
   ],
   "source": [
    "thinkplot.PrePlot(1)\n",
    "thinkplot.Pmf(pmf)\n",
    "thinkplot.Config(xlabel='Pregnancy length (weeks)',\n",
    "                 ylabel='PMF', \n",
    "                 xlim=[0, 50])"
   ]
  },
  {
   "cell_type": "markdown",
   "metadata": {},
   "source": [
    "`Pdf` tries to render the Pmf with a smooth curve."
   ]
  },
  {
   "cell_type": "code",
   "execution_count": 9,
   "metadata": {},
   "outputs": [
    {
     "data": {
      "text/plain": [
       "<matplotlib.axes._subplots.AxesSubplot at 0x7f088e9be350>"
      ]
     },
     "execution_count": 9,
     "metadata": {},
     "output_type": "execute_result"
    },
    {
     "data": {
      "image/png": "[encoded data removed]",
      "text/plain": [
       "<matplotlib.figure.Figure at 0x7f088e9d16d0>"
      ]
     },
     "metadata": {},
     "output_type": "display_data"
    }
   ],
   "source": [
    "live.prglngth.plot.kde()"
   ]
  },
  {
   "cell_type": "code",
   "execution_count": 10,
   "metadata": {
    "collapsed": false
   },
   "outputs": [
    {
     "data": {
      "image/png": "[encoded data removed]",
      "text/plain": [
       "<matplotlib.figure.Figure at 0x7f088e9e6310>"
      ]
     },
     "metadata": {},
     "output_type": "display_data"
    }
   ],
   "source": [
    "thinkplot.PrePlot(1)\n",
    "thinkplot.Pdf(pmf)\n",
    "thinkplot.Config(xlabel='Pregnancy length (weeks)',\n",
    "                 ylabel='PMF', \n",
    "                 xlim=[0, 50])"
   ]
  },
  {
   "cell_type": "markdown",
   "metadata": {},
   "source": [
    "I started with PMFs and histograms because they are familiar, but I think they are bad for exploration.\n",
    "\n",
    "For one thing, they don't hold up well when the number of values increases."
   ]
  },
  {
   "cell_type": "code",
   "execution_count": 11,
   "metadata": {
    "collapsed": false
   },
   "outputs": [
    {
     "data": {
      "image/png": "[encoded data removed]",
      "text/plain": [
       "<matplotlib.figure.Figure at 0x7f088ecd8750>"
      ]
     },
     "metadata": {},
     "output_type": "display_data"
    }
   ],
   "source": [
    "pmf_weight = thinkstats2.Pmf(live.totalwgt_lb)\n",
    "thinkplot.PrePlot(1)\n",
    "thinkplot.Hist(pmf_weight)\n",
    "thinkplot.Config(xlabel='Birth weight (lbs)',\n",
    "                 ylabel='PMF')"
   ]
  },
  {
   "cell_type": "code",
   "execution_count": 12,
   "metadata": {
    "collapsed": false
   },
   "outputs": [
    {
     "data": {
      "image/png": "[encoded data removed]",
      "text/plain": [
       "<matplotlib.figure.Figure at 0x7f088eaf5e90>"
      ]
     },
     "metadata": {},
     "output_type": "display_data"
    }
   ],
   "source": [
    "pmf_weight = thinkstats2.Pmf(live.totalwgt_lb)\n",
    "thinkplot.PrePlot(1)\n",
    "thinkplot.Pmf(pmf_weight)\n",
    "thinkplot.Config(xlabel='Birth weight (lbs)',\n",
    "                 ylabel='PMF')"
   ]
  },
  {
   "cell_type": "code",
   "execution_count": 13,
   "metadata": {
    "collapsed": false
   },
   "outputs": [
    {
     "data": {
      "image/png": "[encoded data removed]",
      "text/plain": [
       "<matplotlib.figure.Figure at 0x7f088e4c3410>"
      ]
     },
     "metadata": {},
     "output_type": "display_data"
    }
   ],
   "source": [
    "pmf_weight = thinkstats2.Pmf(live.totalwgt_lb)\n",
    "thinkplot.PrePlot(1)\n",
    "thinkplot.Pdf(pmf_weight)\n",
    "thinkplot.Config(xlabel='Birth weight (lbs)',\n",
    "                 ylabel='PMF')"
   ]
  },
  {
   "cell_type": "markdown",
   "metadata": {},
   "source": [
    "Sometimes you can make the visualization better by binning the data:"
   ]
  },
  {
   "cell_type": "code",
   "execution_count": 14,
   "metadata": {
    "collapsed": false
   },
   "outputs": [
    {
     "data": {
      "image/png": "[encoded data removed]",
      "text/plain": [
       "<matplotlib.figure.Figure at 0x7f088e9c72d0>"
      ]
     },
     "metadata": {},
     "output_type": "display_data"
    }
   ],
   "source": [
    "def bin_and_pmf(weights, num_bins):\n",
    "    bins = np.linspace(0, 15.5, num_bins)\n",
    "    indices = np.digitize(weights, bins)\n",
    "    values = bins[indices]\n",
    "    pmf_weight = thinkstats2.Pmf(values)\n",
    "\n",
    "    thinkplot.PrePlot(1)\n",
    "    thinkplot.Pdf(pmf_weight)\n",
    "    thinkplot.Config(xlabel='Birth weight (lbs)',\n",
    "                     ylabel='PMF')\n",
    "    \n",
    "bin_and_pmf(live.totalwgt_lb.dropna(), 50)"
   ]
  },
  {
   "cell_type": "markdown",
   "metadata": {},
   "source": [
    "Binning is simple enough, but it is still a nuisance.\n",
    "\n",
    "And it is fragile.  If you have too many bins, the result is noisy.  Too few, you obliterate features that might be important.\n",
    "\n",
    "And if the bin boundaries don't align well with data boundaries, you can create artifacts."
   ]
  },
  {
   "cell_type": "code",
   "execution_count": 15,
   "metadata": {
    "collapsed": false
   },
   "outputs": [
    {
     "data": {
      "image/png": "[encoded data removed]",
      "text/plain": [
       "<matplotlib.figure.Figure at 0x7f088e3f2390>"
      ]
     },
     "metadata": {},
     "output_type": "display_data"
    }
   ],
   "source": [
    "bin_and_pmf(live.totalwgt_lb.dropna(), 51)"
   ]
  },
  {
   "cell_type": "markdown",
   "metadata": {},
   "source": [
    "There must be a better way!\n",
    "\n",
    "Indeed there is.  In my opinion, cumulative distribution functions (CDFs) are a better choice for data exploration.\n",
    "\n",
    "You don't have to bin the data or make any other transformation.\n",
    "\n",
    "`thinkstats2` provides a function that makes CDFs, and `thinkplot` provides a function for plotting them."
   ]
  },
  {
   "cell_type": "code",
   "execution_count": 16,
   "metadata": {
    "collapsed": false
   },
   "outputs": [
    {
     "data": {
      "text/plain": [
       "Pmf({1: 0.25, 2: 0.5, 5: 0.25})"
      ]
     },
     "execution_count": 16,
     "metadata": {},
     "output_type": "execute_result"
    }
   ],
   "source": [
    "data = [1, 2, 2, 5]\n",
    "pmf = thinkstats2.Pmf(data)\n",
    "pmf"
   ]
  },
  {
   "cell_type": "code",
   "execution_count": 17,
   "metadata": {
    "collapsed": false
   },
   "outputs": [
    {
     "data": {
      "text/plain": [
       "Cdf([1 2 5], [ 0.25  0.75  1.  ])"
      ]
     },
     "execution_count": 17,
     "metadata": {},
     "output_type": "execute_result"
    }
   ],
   "source": [
    "cdf = thinkstats2.Cdf(data)\n",
    "cdf"
   ]
  },
  {
   "cell_type": "code",
   "execution_count": 18,
   "metadata": {
    "collapsed": false
   },
   "outputs": [
    {
     "data": {
      "image/png": "[encoded data removed]",
      "text/plain": [
       "<matplotlib.figure.Figure at 0x7f088e30cb90>"
      ]
     },
     "metadata": {},
     "output_type": "display_data"
    }
   ],
   "source": [
    "thinkplot.PrePlot(1)\n",
    "thinkplot.Cdf(cdf)\n",
    "thinkplot.Config(ylabel='CDF', \n",
    "                 xlim=[0.5, 5.5])"
   ]
  },
  {
   "cell_type": "markdown",
   "metadata": {},
   "source": [
    "Let's see what that looks like for real data."
   ]
  },
  {
   "cell_type": "code",
   "execution_count": 49,
   "metadata": {},
   "outputs": [
    {
     "data": {
      "text/html": [
       "<div>\n",
       "<style scoped>\n",
       "    .dataframe tbody tr th:only-of-type {\n",
       "        vertical-align: middle;\n",
       "    }\n",
       "\n",
       "    .dataframe tbody tr th {\n",
       "        vertical-align: top;\n",
       "    }\n",
       "\n",
       "    .dataframe thead th {\n",
       "        text-align: right;\n",
       "    }\n",
       "</style>\n",
       "<table border=\"1\" class=\"dataframe\">\n",
       "  <thead>\n",
       "    <tr style=\"text-align: right;\">\n",
       "      <th></th>\n",
       "      <th>totalwgt_lb</th>\n",
       "      <th>rank</th>\n",
       "    </tr>\n",
       "  </thead>\n",
       "  <tbody>\n",
       "    <tr>\n",
       "      <th>10029</th>\n",
       "      <td>8.3125</td>\n",
       "      <td>0.792985</td>\n",
       "    </tr>\n",
       "    <tr>\n",
       "      <th>7683</th>\n",
       "      <td>8.3125</td>\n",
       "      <td>0.792985</td>\n",
       "    </tr>\n",
       "    <tr>\n",
       "      <th>7691</th>\n",
       "      <td>8.3125</td>\n",
       "      <td>0.792985</td>\n",
       "    </tr>\n",
       "    <tr>\n",
       "      <th>7694</th>\n",
       "      <td>8.3125</td>\n",
       "      <td>0.792985</td>\n",
       "    </tr>\n",
       "    <tr>\n",
       "      <th>1662</th>\n",
       "      <td>8.3125</td>\n",
       "      <td>0.792985</td>\n",
       "    </tr>\n",
       "    <tr>\n",
       "      <th>11677</th>\n",
       "      <td>8.3125</td>\n",
       "      <td>0.792985</td>\n",
       "    </tr>\n",
       "    <tr>\n",
       "      <th>11662</th>\n",
       "      <td>8.3125</td>\n",
       "      <td>0.792985</td>\n",
       "    </tr>\n",
       "    <tr>\n",
       "      <th>7831</th>\n",
       "      <td>8.3125</td>\n",
       "      <td>0.792985</td>\n",
       "    </tr>\n",
       "    <tr>\n",
       "      <th>5112</th>\n",
       "      <td>8.3125</td>\n",
       "      <td>0.792985</td>\n",
       "    </tr>\n",
       "    <tr>\n",
       "      <th>7857</th>\n",
       "      <td>8.3125</td>\n",
       "      <td>0.792985</td>\n",
       "    </tr>\n",
       "    <tr>\n",
       "      <th>5078</th>\n",
       "      <td>8.3125</td>\n",
       "      <td>0.792985</td>\n",
       "    </tr>\n",
       "    <tr>\n",
       "      <th>5059</th>\n",
       "      <td>8.3125</td>\n",
       "      <td>0.792985</td>\n",
       "    </tr>\n",
       "    <tr>\n",
       "      <th>5044</th>\n",
       "      <td>8.3125</td>\n",
       "      <td>0.792985</td>\n",
       "    </tr>\n",
       "    <tr>\n",
       "      <th>5007</th>\n",
       "      <td>8.3125</td>\n",
       "      <td>0.792985</td>\n",
       "    </tr>\n",
       "    <tr>\n",
       "      <th>4925</th>\n",
       "      <td>8.3125</td>\n",
       "      <td>0.792985</td>\n",
       "    </tr>\n",
       "    <tr>\n",
       "      <th>8111</th>\n",
       "      <td>8.3125</td>\n",
       "      <td>0.792985</td>\n",
       "    </tr>\n",
       "    <tr>\n",
       "      <th>8164</th>\n",
       "      <td>8.3125</td>\n",
       "      <td>0.792985</td>\n",
       "    </tr>\n",
       "    <tr>\n",
       "      <th>2068</th>\n",
       "      <td>8.3125</td>\n",
       "      <td>0.792985</td>\n",
       "    </tr>\n",
       "    <tr>\n",
       "      <th>4855</th>\n",
       "      <td>8.3125</td>\n",
       "      <td>0.792985</td>\n",
       "    </tr>\n",
       "    <tr>\n",
       "      <th>11050</th>\n",
       "      <td>8.3125</td>\n",
       "      <td>0.792985</td>\n",
       "    </tr>\n",
       "    <tr>\n",
       "      <th>11724</th>\n",
       "      <td>8.3125</td>\n",
       "      <td>0.792985</td>\n",
       "    </tr>\n",
       "    <tr>\n",
       "      <th>2248</th>\n",
       "      <td>8.3125</td>\n",
       "      <td>0.792985</td>\n",
       "    </tr>\n",
       "    <tr>\n",
       "      <th>7644</th>\n",
       "      <td>8.3125</td>\n",
       "      <td>0.792985</td>\n",
       "    </tr>\n",
       "    <tr>\n",
       "      <th>1561</th>\n",
       "      <td>8.3125</td>\n",
       "      <td>0.792985</td>\n",
       "    </tr>\n",
       "    <tr>\n",
       "      <th>715</th>\n",
       "      <td>8.3125</td>\n",
       "      <td>0.792985</td>\n",
       "    </tr>\n",
       "    <tr>\n",
       "      <th>5862</th>\n",
       "      <td>8.3125</td>\n",
       "      <td>0.792985</td>\n",
       "    </tr>\n",
       "    <tr>\n",
       "      <th>12525</th>\n",
       "      <td>8.3125</td>\n",
       "      <td>0.792985</td>\n",
       "    </tr>\n",
       "    <tr>\n",
       "      <th>7085</th>\n",
       "      <td>8.3125</td>\n",
       "      <td>0.792985</td>\n",
       "    </tr>\n",
       "    <tr>\n",
       "      <th>12509</th>\n",
       "      <td>8.3125</td>\n",
       "      <td>0.792985</td>\n",
       "    </tr>\n",
       "    <tr>\n",
       "      <th>5734</th>\n",
       "      <td>8.3125</td>\n",
       "      <td>0.792985</td>\n",
       "    </tr>\n",
       "    <tr>\n",
       "      <th>...</th>\n",
       "      <td>...</td>\n",
       "      <td>...</td>\n",
       "    </tr>\n",
       "    <tr>\n",
       "      <th>2894</th>\n",
       "      <td>11.1875</td>\n",
       "      <td>0.996791</td>\n",
       "    </tr>\n",
       "    <tr>\n",
       "      <th>10969</th>\n",
       "      <td>11.1875</td>\n",
       "      <td>0.996791</td>\n",
       "    </tr>\n",
       "    <tr>\n",
       "      <th>819</th>\n",
       "      <td>11.3750</td>\n",
       "      <td>0.997013</td>\n",
       "    </tr>\n",
       "    <tr>\n",
       "      <th>9599</th>\n",
       "      <td>11.4375</td>\n",
       "      <td>0.997179</td>\n",
       "    </tr>\n",
       "    <tr>\n",
       "      <th>5010</th>\n",
       "      <td>11.4375</td>\n",
       "      <td>0.997179</td>\n",
       "    </tr>\n",
       "    <tr>\n",
       "      <th>7299</th>\n",
       "      <td>11.5000</td>\n",
       "      <td>0.997345</td>\n",
       "    </tr>\n",
       "    <tr>\n",
       "      <th>1238</th>\n",
       "      <td>11.5625</td>\n",
       "      <td>0.997511</td>\n",
       "    </tr>\n",
       "    <tr>\n",
       "      <th>3959</th>\n",
       "      <td>11.5625</td>\n",
       "      <td>0.997511</td>\n",
       "    </tr>\n",
       "    <tr>\n",
       "      <th>3045</th>\n",
       "      <td>11.6250</td>\n",
       "      <td>0.997676</td>\n",
       "    </tr>\n",
       "    <tr>\n",
       "      <th>2824</th>\n",
       "      <td>11.6875</td>\n",
       "      <td>0.997787</td>\n",
       "    </tr>\n",
       "    <tr>\n",
       "      <th>1061</th>\n",
       "      <td>11.7500</td>\n",
       "      <td>0.997953</td>\n",
       "    </tr>\n",
       "    <tr>\n",
       "      <th>9561</th>\n",
       "      <td>11.7500</td>\n",
       "      <td>0.997953</td>\n",
       "    </tr>\n",
       "    <tr>\n",
       "      <th>4412</th>\n",
       "      <td>11.9375</td>\n",
       "      <td>0.998119</td>\n",
       "    </tr>\n",
       "    <tr>\n",
       "      <th>105</th>\n",
       "      <td>12.0000</td>\n",
       "      <td>0.998451</td>\n",
       "    </tr>\n",
       "    <tr>\n",
       "      <th>9735</th>\n",
       "      <td>12.0000</td>\n",
       "      <td>0.998451</td>\n",
       "    </tr>\n",
       "    <tr>\n",
       "      <th>4100</th>\n",
       "      <td>12.0000</td>\n",
       "      <td>0.998451</td>\n",
       "    </tr>\n",
       "    <tr>\n",
       "      <th>104</th>\n",
       "      <td>12.0000</td>\n",
       "      <td>0.998451</td>\n",
       "    </tr>\n",
       "    <tr>\n",
       "      <th>4421</th>\n",
       "      <td>12.0000</td>\n",
       "      <td>0.998451</td>\n",
       "    </tr>\n",
       "    <tr>\n",
       "      <th>9734</th>\n",
       "      <td>12.1875</td>\n",
       "      <td>0.998838</td>\n",
       "    </tr>\n",
       "    <tr>\n",
       "      <th>5093</th>\n",
       "      <td>12.1875</td>\n",
       "      <td>0.998838</td>\n",
       "    </tr>\n",
       "    <tr>\n",
       "      <th>7398</th>\n",
       "      <td>12.3750</td>\n",
       "      <td>0.999060</td>\n",
       "    </tr>\n",
       "    <tr>\n",
       "      <th>7298</th>\n",
       "      <td>12.3750</td>\n",
       "      <td>0.999060</td>\n",
       "    </tr>\n",
       "    <tr>\n",
       "      <th>7406</th>\n",
       "      <td>12.5000</td>\n",
       "      <td>0.999225</td>\n",
       "    </tr>\n",
       "    <tr>\n",
       "      <th>6733</th>\n",
       "      <td>13.0000</td>\n",
       "      <td>0.999336</td>\n",
       "    </tr>\n",
       "    <tr>\n",
       "      <th>903</th>\n",
       "      <td>13.5000</td>\n",
       "      <td>0.999447</td>\n",
       "    </tr>\n",
       "    <tr>\n",
       "      <th>4097</th>\n",
       "      <td>13.7500</td>\n",
       "      <td>0.999557</td>\n",
       "    </tr>\n",
       "    <tr>\n",
       "      <th>106</th>\n",
       "      <td>14.0000</td>\n",
       "      <td>0.999779</td>\n",
       "    </tr>\n",
       "    <tr>\n",
       "      <th>12801</th>\n",
       "      <td>14.0000</td>\n",
       "      <td>0.999779</td>\n",
       "    </tr>\n",
       "    <tr>\n",
       "      <th>12802</th>\n",
       "      <td>14.0000</td>\n",
       "      <td>0.999779</td>\n",
       "    </tr>\n",
       "    <tr>\n",
       "      <th>7308</th>\n",
       "      <td>15.4375</td>\n",
       "      <td>1.000000</td>\n",
       "    </tr>\n",
       "  </tbody>\n",
       "</table>\n",
       "<p>1926 rows × 2 columns</p>\n",
       "</div>"
      ],
      "text/plain": [
       "       totalwgt_lb      rank\n",
       "10029       8.3125  0.792985\n",
       "7683        8.3125  0.792985\n",
       "7691        8.3125  0.792985\n",
       "7694        8.3125  0.792985\n",
       "1662        8.3125  0.792985\n",
       "11677       8.3125  0.792985\n",
       "11662       8.3125  0.792985\n",
       "7831        8.3125  0.792985\n",
       "5112        8.3125  0.792985\n",
       "7857        8.3125  0.792985\n",
       "5078        8.3125  0.792985\n",
       "5059        8.3125  0.792985\n",
       "5044        8.3125  0.792985\n",
       "5007        8.3125  0.792985\n",
       "4925        8.3125  0.792985\n",
       "8111        8.3125  0.792985\n",
       "8164        8.3125  0.792985\n",
       "2068        8.3125  0.792985\n",
       "4855        8.3125  0.792985\n",
       "11050       8.3125  0.792985\n",
       "11724       8.3125  0.792985\n",
       "2248        8.3125  0.792985\n",
       "7644        8.3125  0.792985\n",
       "1561        8.3125  0.792985\n",
       "715         8.3125  0.792985\n",
       "5862        8.3125  0.792985\n",
       "12525       8.3125  0.792985\n",
       "7085        8.3125  0.792985\n",
       "12509       8.3125  0.792985\n",
       "5734        8.3125  0.792985\n",
       "...            ...       ...\n",
       "2894       11.1875  0.996791\n",
       "10969      11.1875  0.996791\n",
       "819        11.3750  0.997013\n",
       "9599       11.4375  0.997179\n",
       "5010       11.4375  0.997179\n",
       "7299       11.5000  0.997345\n",
       "1238       11.5625  0.997511\n",
       "3959       11.5625  0.997511\n",
       "3045       11.6250  0.997676\n",
       "2824       11.6875  0.997787\n",
       "1061       11.7500  0.997953\n",
       "9561       11.7500  0.997953\n",
       "4412       11.9375  0.998119\n",
       "105        12.0000  0.998451\n",
       "9735       12.0000  0.998451\n",
       "4100       12.0000  0.998451\n",
       "104        12.0000  0.998451\n",
       "4421       12.0000  0.998451\n",
       "9734       12.1875  0.998838\n",
       "5093       12.1875  0.998838\n",
       "7398       12.3750  0.999060\n",
       "7298       12.3750  0.999060\n",
       "7406       12.5000  0.999225\n",
       "6733       13.0000  0.999336\n",
       "903        13.5000  0.999447\n",
       "4097       13.7500  0.999557\n",
       "106        14.0000  0.999779\n",
       "12801      14.0000  0.999779\n",
       "12802      14.0000  0.999779\n",
       "7308       15.4375  1.000000\n",
       "\n",
       "[1926 rows x 2 columns]"
      ]
     },
     "execution_count": 49,
     "metadata": {},
     "output_type": "execute_result"
    },
    {
     "data": {
      "image/png": "[encoded data removed]",
      "text/plain": [
       "<matplotlib.figure.Figure at 0x7f088d30e390>"
      ]
     },
     "metadata": {},
     "output_type": "display_data"
    }
   ],
   "source": [
    "import seaborn as sns \n",
    "import statsmodels\n",
    "sns.distplot(live.totalwgt_lb.dropna(),\n",
    "             hist_kws={'cumulative': True, 'normed':1},\n",
    "             kde_kws={'cumulative': True})\n",
    "live.totalwgt_lb.quantile(.5)\n",
    "live.loc[:,'rank']=live.totalwgt_lb.dropna().rank(pct=True)\n",
    "live.loc[live.totalwgt_lb >= 8.29][['totalwgt_lb','rank']].sort_values(by=['rank'])\n"
   ]
  },
  {
   "cell_type": "code",
   "execution_count": 20,
   "metadata": {
    "collapsed": false
   },
   "outputs": [
    {
     "data": {
      "image/png": "[encoded data removed]",
      "text/plain": [
       "<matplotlib.figure.Figure at 0x7f088e48c590>"
      ]
     },
     "metadata": {},
     "output_type": "display_data"
    }
   ],
   "source": [
    "cdf_weight = thinkstats2.Cdf(live.totalwgt_lb)\n",
    "thinkplot.PrePlot(1)\n",
    "thinkplot.Cdf(cdf_weight)\n",
    "thinkplot.Config(xlabel='Birth weight (lbs)',\n",
    "                 ylabel='CDF')"
   ]
  },
  {
   "cell_type": "markdown",
   "metadata": {},
   "source": [
    "A CDF is a map from each value to its cumulative probability.\n",
    "\n",
    "You can use it to compute percentiles:"
   ]
  },
  {
   "cell_type": "code",
   "execution_count": 21,
   "metadata": {
    "collapsed": false
   },
   "outputs": [
    {
     "data": {
      "text/plain": [
       "7.375"
      ]
     },
     "execution_count": 21,
     "metadata": {},
     "output_type": "execute_result"
    }
   ],
   "source": [
    "cdf_weight.Percentile(50)"
   ]
  },
  {
   "cell_type": "markdown",
   "metadata": {},
   "source": [
    "Or if you are given a value, you can compute its percentile rank."
   ]
  },
  {
   "cell_type": "code",
   "execution_count": 22,
   "metadata": {
    "collapsed": false
   },
   "outputs": [
    {
     "data": {
      "text/plain": [
       "78.689975658331491"
      ]
     },
     "execution_count": 22,
     "metadata": {},
     "output_type": "execute_result"
    }
   ],
   "source": [
    "cdf_weight.PercentileRank(8.3)"
   ]
  },
  {
   "cell_type": "markdown",
   "metadata": {},
   "source": [
    "Looking at the CDF, it is easy to see the range of values, the central tendency and spread, as well as the overall shape of the distribution.\n",
    "\n",
    "If there are particular values that appear often, they are visible as vertical lines.  If there are ranges where no values appear, they are visible as horizontal lines.\n",
    "\n",
    "And one of the best things about CDFs is that you can plot several of them on the same axes for comparison.  For example, let's see if first babies are lighter than others."
   ]
  },
  {
   "cell_type": "code",
   "execution_count": 23,
   "metadata": {
    "collapsed": false
   },
   "outputs": [
    {
     "data": {
      "text/plain": [
       "(4413, 4735)"
      ]
     },
     "execution_count": 23,
     "metadata": {},
     "output_type": "execute_result"
    }
   ],
   "source": [
    "firsts = live[live.birthord == 1]\n",
    "others = live[live.birthord != 1]\n",
    "len(firsts), len(others)"
   ]
  },
  {
   "cell_type": "code",
   "execution_count": 24,
   "metadata": {
    "collapsed": false
   },
   "outputs": [],
   "source": [
    "cdf_firsts = thinkstats2.Cdf(firsts.totalwgt_lb, label='firsts')\n",
    "cdf_others = thinkstats2.Cdf(others.totalwgt_lb, label='others')"
   ]
  },
  {
   "cell_type": "code",
   "execution_count": 25,
   "metadata": {
    "collapsed": false
   },
   "outputs": [
    {
     "data": {
      "image/png": "[encoded data removed]",
      "text/plain": [
       "<matplotlib.figure.Figure at 0x7f088e47a450>"
      ]
     },
     "metadata": {},
     "output_type": "display_data"
    }
   ],
   "source": [
    "thinkplot.PrePlot(2)\n",
    "thinkplot.Cdfs([cdf_firsts, cdf_others])\n",
    "thinkplot.Config(xlabel='Birth weight (lbs)',\n",
    "                 ylabel='CDF',\n",
    "                 legend=True)"
   ]
  },
  {
   "cell_type": "markdown",
   "metadata": {},
   "source": [
    "Plotting the two distributions on the same axes, we can see that the distribution for others is shifted to the right; that is, toward higher values.  And we can see that the shift is close to the same over the whole distribution.\n",
    "\n",
    "Let's see how well we can make this comparison with PMFs:"
   ]
  },
  {
   "cell_type": "code",
   "execution_count": 26,
   "metadata": {
    "collapsed": false
   },
   "outputs": [
    {
     "data": {
      "image/png": "[encoded data removed]",
      "text/plain": [
       "<matplotlib.figure.Figure at 0x7f088ecafb50>"
      ]
     },
     "metadata": {},
     "output_type": "display_data"
    }
   ],
   "source": [
    "pmf_firsts = thinkstats2.Pmf(firsts.totalwgt_lb, label='firsts')\n",
    "pmf_others = thinkstats2.Pmf(others.totalwgt_lb, label='others')\n",
    "\n",
    "thinkplot.PrePlot(2)\n",
    "thinkplot.Pdfs([pmf_firsts, pmf_others])\n",
    "thinkplot.Config(xlabel='Birth weight (lbs)',\n",
    "                 ylabel='PMF')"
   ]
  },
  {
   "cell_type": "markdown",
   "metadata": {},
   "source": [
    "With PMFs it is hard to compare distributions.  And if you plot more than two PMFs on the same axes, it is likely to be a mess.\n",
    "\n",
    "Reading CDFs takes some getting used to, but it is worth it!  For data exploration and visualization, CDFs are better than PMFs in almost every way.\n",
    "\n",
    "But if you really have to generate a PMF, a good option is to estimate a smoothed PDF using Kernel Density Estimation (KDE)."
   ]
  },
  {
   "cell_type": "code",
   "execution_count": 27,
   "metadata": {
    "collapsed": false
   },
   "outputs": [
    {
     "data": {
      "image/png": "[encoded data removed]",
      "text/plain": [
       "<matplotlib.figure.Figure at 0x7f088e74db50>"
      ]
     },
     "metadata": {},
     "output_type": "display_data"
    }
   ],
   "source": [
    "pdf_firsts = thinkstats2.EstimatedPdf(firsts.totalwgt_lb.dropna(), label='firsts')\n",
    "pdf_others = thinkstats2.EstimatedPdf(others.totalwgt_lb.dropna(), label='others')\n",
    "\n",
    "thinkplot.PrePlot(2)\n",
    "thinkplot.Pdfs([pdf_firsts, pdf_others])\n",
    "thinkplot.Config(xlabel='Birth weight (lbs)',\n",
    "                 ylabel='PDF')"
   ]
  },
  {
   "cell_type": "markdown",
   "metadata": {},
   "source": [
    "Like binning, KDE involves smoothing the data, so you lose some information.\n",
    "\n",
    "And you might have to tune the \"bandwidth\" parameter to get the right amount of smoothing."
   ]
  },
  {
   "cell_type": "code",
   "execution_count": null,
   "metadata": {
    "collapsed": false
   },
   "outputs": [],
   "source": []
  }
 ],
 "metadata": {
  "kernelspec": {
   "display_name": "Python 2",
   "language": "python",
   "name": "python2"
  },
  "language_info": {
   "codemirror_mode": {
    "name": "ipython",
    "version": 2
   },
   "file_extension": ".py",
   "mimetype": "text/x-python",
   "name": "python",
   "nbconvert_exporter": "python",
   "pygments_lexer": "ipython2",
   "version": "2.7.12"
  }
 },
 "nbformat": 4,
 "nbformat_minor": 2
}
